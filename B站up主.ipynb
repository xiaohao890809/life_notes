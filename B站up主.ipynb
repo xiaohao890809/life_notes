{
 "cells": [
  {
   "cell_type": "markdown",
   "metadata": {},
   "source": [
    "# 高校类"
   ]
  },
  {
   "cell_type": "markdown",
   "metadata": {},
   "source": [
    "## 华中科技大学"
   ]
  },
  {
   "cell_type": "markdown",
   "metadata": {},
   "source": [
    "- [x] [主页](https://space.bilibili.com/212982974)\n",
    "- [ ] 2019-03-04 [《追梦青年》-华中科技大学“青年大学习”MV](https://www.bilibili.com/video/BV13b411z7Uu)\n",
    "- [ ] 2019-01-08 [华中科技大学版《陪我长大》首发！且听温暖的旋律，梦回熟悉的风景](https://www.bilibili.com/video/BV1Ht411s7Vi)\n",
    "- [ ] 2018-12-17 [致敬所有在考研路上的逐梦人](https://www.bilibili.com/video/BV1bt411e7k6)\n",
    "- [x] 2018-06-15 [2018华中科技大学原创毕业主题曲MV —— 年少路远，远方再见](https://www.bilibili.com/video/BV1kW411F7xW)\n",
    "- [x] 2018-06-10 [这一次，笑着离开【2018华中科技大学毕业季大电影】《同学，帮帮忙》首映预告出炉！](https://www.bilibili.com/video/BV19W411c7GK)\n",
    "- [x] 2018-03-07 [2018女生节 | 看完这个采访的女生都哭了](https://www.bilibili.com/video/BV1nW411W7ip)\n",
    "- [x] 2018-03-02 [【IN HUST】——情深不自知](https://www.bilibili.com/video/BV16W411s7CD)\n",
    "- [x] 2018-02-28 [【华中科技大学2018毕业电影】花絮|二轮试镜](https://www.bilibili.com/video/BV15W411t7n8)\n",
    "- [x] 2018-02-28 [【2018华中科技大学毕业电影】花絮|演员大骗局](https://www.bilibili.com/video/BV15W411t7mY)\n",
    "- [x] 2017-11-11 [一首《华科男，别哭》送给大家 | 双十一献礼](https://www.bilibili.com/video/BV1Tx41177k5)\n",
    "- [x] 2017-09-15 [「授权填词翻唱」愿得一人心HUST版 毕业献礼，祝愿你半生归来还是那个人](https://www.bilibili.com/video/BV1qx411s73Q)\n",
    "- [x] 2017-09-15 [江城几处清佳，喻山共赏「玉兰辞」](https://www.bilibili.com/video/BV1qx411s7Kk)\n",
    "- [x] 2017-09-15 [妈妈，我想对你说……](https://www.bilibili.com/video/BV1qx411s7ch)\n",
    "- [x] 2017-09-15 [「小科街采」震惊！HUSTer了解华师居然是因为……](https://www.bilibili.com/video/BV1qx411s7Fe)\n",
    "- [x] 2017-09-15 [高考加油，我们在HUST等你](https://www.bilibili.com/video/BV1qx411s7cY)"
   ]
  },
  {
   "cell_type": "markdown",
   "metadata": {},
   "source": [
    "## 清华大学"
   ]
  },
  {
   "cell_type": "markdown",
   "metadata": {},
   "source": [
    "- [x] [主页](https://space.bilibili.com/349721082)\n",
    "- [x] 2018-11-16 [清华学生超算团队获得国际大学生超级计算机竞赛（SC18）总冠军！](https://www.bilibili.com/video/BV1ct411m7wt)\n",
    "- [ ] 2018-10-26 [【清华美景】这花、这树、这天、这水，这就是清华的秋！](https://www.bilibili.com/video/BV1Cb411P7No)\n",
    "- [ ] 2018-10-24 [大学之道——清华大学宣传片（2018）](https://www.bilibili.com/video/BV1Kt411d7vX)"
   ]
  },
  {
   "cell_type": "markdown",
   "metadata": {},
   "source": [
    "## 西北工业大学"
   ]
  },
  {
   "cell_type": "markdown",
   "metadata": {},
   "source": [
    "- [x] [主页](https://space.bilibili.com/230995653)\n",
    "- [ ] 2017-10-13 [西北工业大学校史沙画欣赏](https://www.bilibili.com/video/BV1gx411g7b7)"
   ]
  },
  {
   "cell_type": "markdown",
   "metadata": {},
   "source": [
    "## 浙江大学"
   ]
  },
  {
   "cell_type": "markdown",
   "metadata": {},
   "source": [
    "- [x] [主页](https://space.bilibili.com/378951562)\n",
    "- [ ] 2019-06-21 [2019浙大招生宣传片：《你的名字》-浙大因你而不凡，我在浙江大学等你！](https://www.bilibili.com/video/BV1Y441137iW)"
   ]
  },
  {
   "cell_type": "markdown",
   "metadata": {},
   "source": [
    "# 纪录片"
   ]
  },
  {
   "cell_type": "markdown",
   "metadata": {},
   "source": [
    "## 猛犸君侯 "
   ]
  },
  {
   "cell_type": "markdown",
   "metadata": {},
   "source": [
    "- [x] [主页](https://space.bilibili.com/13374324)"
   ]
  },
  {
   "cell_type": "markdown",
   "metadata": {},
   "source": [
    "# IT技术"
   ]
  },
  {
   "cell_type": "markdown",
   "metadata": {},
   "source": [
    "## CodeSheep"
   ]
  },
  {
   "cell_type": "markdown",
   "metadata": {},
   "source": [
    "- [x] [主页](https://space.bilibili.com/384068749)"
   ]
  },
  {
   "cell_type": "code",
   "execution_count": null,
   "metadata": {},
   "outputs": [],
   "source": []
  }
 ],
 "metadata": {
  "kernelspec": {
   "display_name": "Python 3",
   "language": "python",
   "name": "python3"
  },
  "language_info": {
   "codemirror_mode": {
    "name": "ipython",
    "version": 3
   },
   "file_extension": ".py",
   "mimetype": "text/x-python",
   "name": "python",
   "nbconvert_exporter": "python",
   "pygments_lexer": "ipython3",
   "version": "3.8.5"
  },
  "toc": {
   "base_numbering": 1,
   "nav_menu": {},
   "number_sections": true,
   "sideBar": true,
   "skip_h1_title": false,
   "title_cell": "Table of Contents",
   "title_sidebar": "Contents",
   "toc_cell": false,
   "toc_position": {
    "height": "calc(100% - 180px)",
    "left": "10px",
    "top": "150px",
    "width": "384px"
   },
   "toc_section_display": true,
   "toc_window_display": true
  }
 },
 "nbformat": 4,
 "nbformat_minor": 4
}
