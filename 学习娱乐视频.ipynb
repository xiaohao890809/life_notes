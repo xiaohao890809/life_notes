{
 "cells": [
  {
   "cell_type": "markdown",
   "metadata": {},
   "source": [
    "# [经典咏流传](https://tv.cctv.com/lm/jdylc4)"
   ]
  },
  {
   "cell_type": "markdown",
   "metadata": {},
   "source": [
    "## 20210206\n",
    "\n",
    "- 《梅岭三章》演唱：郑棋元\n",
    "- 《大漠沙如雪》演唱：阿兰·达瓦卓玛 扎西平措\n",
    "- 《精卫》演唱：刘惜君\n",
    "- 《芝兰》演唱：容祖儿\n",
    "- 《咏煤炭》演唱：余音"
   ]
  },
  {
   "cell_type": "markdown",
   "metadata": {},
   "source": [
    "# [是真的吗](https://tv.cctv.com/lm/szdm/index.shtml)"
   ]
  },
  {
   "cell_type": "markdown",
   "metadata": {},
   "source": [
    "# [典籍里的中国](https://tv.cctv.com/lm/djldzg/index.shtml)"
   ]
  },
  {
   "cell_type": "markdown",
   "metadata": {},
   "source": [
    "## 20210212\n",
    "\n",
    "**尚书**\n",
    "\n",
    "《伏生授经图》——王维\n",
    "\n",
    "民为邦本，本固邦宁。——尚书·夏书·五子之歌"
   ]
  },
  {
   "cell_type": "markdown",
   "metadata": {},
   "source": [
    "# [我的艺术清单](https://tv.cctv.com/lm/wdysqd/)"
   ]
  },
  {
   "cell_type": "markdown",
   "metadata": {},
   "source": [
    "## 20210204\n",
    "\n",
    "**薇娅（电商主播）**\n",
    "\n",
    "1. 书籍《小王子》\n",
    "1. 书籍《我的说话之道》\n",
    "1. 书籍《背影》\n",
    "1. 麦家——人生海海、风声\n",
    "1. 歌曲《倔强》"
   ]
  },
  {
   "cell_type": "markdown",
   "metadata": {},
   "source": [
    "# 跟着书本去旅行"
   ]
  },
  {
   "cell_type": "markdown",
   "metadata": {},
   "source": [
    "## 20210213 \n",
    "\n",
    "书本里的年味儿——必备年货"
   ]
  },
  {
   "cell_type": "markdown",
   "metadata": {},
   "source": [
    "# 诗意中国"
   ]
  },
  {
   "cell_type": "markdown",
   "metadata": {},
   "source": [
    "## 2021-02-05\n",
    "\n",
    "苏轼"
   ]
  },
  {
   "cell_type": "markdown",
   "metadata": {},
   "source": [
    "# 太空科幻"
   ]
  },
  {
   "cell_type": "markdown",
   "metadata": {},
   "source": [
    "## [飞向月球](https://www.bilibili.com/video/BV134411z7Kc)\n",
    "\n",
    "1. 往事千年\n",
    "1. 中国探月\n",
    "1. 嫦娥落月\n",
    "1. 月球背面\n",
    "1. 自新大陆"
   ]
  },
  {
   "cell_type": "code",
   "execution_count": null,
   "metadata": {},
   "outputs": [],
   "source": []
  }
 ],
 "metadata": {
  "kernelspec": {
   "display_name": "Python 3",
   "language": "python",
   "name": "python3"
  },
  "language_info": {
   "codemirror_mode": {
    "name": "ipython",
    "version": 3
   },
   "file_extension": ".py",
   "mimetype": "text/x-python",
   "name": "python",
   "nbconvert_exporter": "python",
   "pygments_lexer": "ipython3",
   "version": "3.8.5"
  },
  "toc": {
   "base_numbering": 1,
   "nav_menu": {},
   "number_sections": true,
   "sideBar": true,
   "skip_h1_title": false,
   "title_cell": "Table of Contents",
   "title_sidebar": "Contents",
   "toc_cell": false,
   "toc_position": {
    "height": "calc(100% - 180px)",
    "left": "10px",
    "top": "150px",
    "width": "288px"
   },
   "toc_section_display": true,
   "toc_window_display": true
  }
 },
 "nbformat": 4,
 "nbformat_minor": 4
}
