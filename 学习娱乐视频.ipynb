{
 "cells": [
  {
   "cell_type": "markdown",
   "metadata": {},
   "source": [
    "# 是真的吗"
   ]
  },
  {
   "cell_type": "markdown",
   "metadata": {},
   "source": [
    "## 20201205"
   ]
  },
  {
   "cell_type": "markdown",
   "metadata": {},
   "source": [
    "1. 发芽的椰子也能吃？\n",
    "    - 真的\n",
    "    \n",
    "![](https://raw.githubusercontent.com/xiaohao890809/life_notes/main/pic/%E5%8F%91%E8%8A%BD%E7%9A%84%E6%A4%B0%E5%AD%90.png)\n",
    "\n",
    "![](https://raw.githubusercontent.com/xiaohao890809/life_notes/main/pic/%E8%AF%95%E7%AE%A1.png)\n",
    "\n",
    "2. 打喷嚏捂住嘴巴可以防止传染\n",
    "    - 假的\n",
    "\n",
    "![](https://raw.githubusercontent.com/xiaohao890809/life_notes/main/pic/%E6%89%93%E5%96%B7%E5%9A%8F.png)"
   ]
  },
  {
   "cell_type": "code",
   "execution_count": null,
   "metadata": {},
   "outputs": [],
   "source": []
  }
 ],
 "metadata": {
  "kernelspec": {
   "display_name": "Python 3",
   "language": "python",
   "name": "python3"
  },
  "language_info": {
   "codemirror_mode": {
    "name": "ipython",
    "version": 3
   },
   "file_extension": ".py",
   "mimetype": "text/x-python",
   "name": "python",
   "nbconvert_exporter": "python",
   "pygments_lexer": "ipython3",
   "version": "3.8.5"
  },
  "toc": {
   "base_numbering": 1,
   "nav_menu": {},
   "number_sections": true,
   "sideBar": true,
   "skip_h1_title": false,
   "title_cell": "Table of Contents",
   "title_sidebar": "Contents",
   "toc_cell": false,
   "toc_position": {},
   "toc_section_display": true,
   "toc_window_display": true
  }
 },
 "nbformat": 4,
 "nbformat_minor": 4
}
