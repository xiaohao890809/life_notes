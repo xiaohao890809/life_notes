{
 "cells": [
  {
   "cell_type": "markdown",
   "metadata": {},
   "source": [
    "# 战争片"
   ]
  },
  {
   "cell_type": "markdown",
   "metadata": {},
   "source": [
    "## 八佰"
   ]
  },
  {
   "cell_type": "markdown",
   "metadata": {},
   "source": [
    "- 下载资源：[八佰.hd1080p.国语中字.mp4](http://www.pianhd.com/down/BaBai/6878nz.html)\n",
    "- [百科](https://baike.baidu.com/item/%E5%85%AB%E4%BD%B0)\n",
    "- 2020-12-20看完"
   ]
  },
  {
   "cell_type": "markdown",
   "metadata": {},
   "source": [
    "# 生活片"
   ]
  },
  {
   "cell_type": "markdown",
   "metadata": {},
   "source": [
    "## 女大学生宿舍"
   ]
  },
  {
   "cell_type": "markdown",
   "metadata": {},
   "source": [
    "- [百科](https://baike.baidu.com/item/%E5%A5%B3%E5%A4%A7%E5%AD%A6%E7%94%9F%E5%AE%BF%E8%88%8D/)\n",
    "- 2021-01-03看完"
   ]
  },
  {
   "cell_type": "markdown",
   "metadata": {},
   "source": [
    "# 剧情片"
   ]
  },
  {
   "cell_type": "markdown",
   "metadata": {},
   "source": [
    "## 巴黎圣母院"
   ]
  },
  {
   "cell_type": "markdown",
   "metadata": {},
   "source": [
    "- [百科](https://baike.baidu.com/item/%E5%B7%B4%E9%BB%8E%E5%9C%A3%E6%AF%8D%E9%99%A2/5658602#viewPageContent)\n",
    "- 2021-01-05看完"
   ]
  },
  {
   "cell_type": "markdown",
   "metadata": {},
   "source": [
    "# 梦断南洋"
   ]
  },
  {
   "cell_type": "markdown",
   "metadata": {},
   "source": [
    "- [百科](https://baike.baidu.com/item/%E6%A2%A6%E6%96%AD%E5%8D%97%E6%B4%8B)\n",
    "- 2021-02-07看完"
   ]
  },
  {
   "cell_type": "markdown",
   "metadata": {},
   "source": [
    "## 望乡"
   ]
  },
  {
   "cell_type": "markdown",
   "metadata": {},
   "source": [
    "- [百科](https://baike.baidu.com/item/%E6%9C%9B%E4%B9%A1/17817)\n",
    "- 2021-01-23看完"
   ]
  },
  {
   "cell_type": "markdown",
   "metadata": {},
   "source": [
    "# 武侠片"
   ]
  },
  {
   "cell_type": "markdown",
   "metadata": {},
   "source": [
    "## 索命飞刀"
   ]
  },
  {
   "cell_type": "markdown",
   "metadata": {},
   "source": [
    "- [百科](https://baike.baidu.com/item/%E7%B4%A2%E5%91%BD%E9%A3%9E%E5%88%80/5726059)\n",
    "- 2021-01-28看完"
   ]
  },
  {
   "cell_type": "code",
   "execution_count": null,
   "metadata": {},
   "outputs": [],
   "source": []
  }
 ],
 "metadata": {
  "kernelspec": {
   "display_name": "Python 3",
   "language": "python",
   "name": "python3"
  },
  "language_info": {
   "codemirror_mode": {
    "name": "ipython",
    "version": 3
   },
   "file_extension": ".py",
   "mimetype": "text/x-python",
   "name": "python",
   "nbconvert_exporter": "python",
   "pygments_lexer": "ipython3",
   "version": "3.8.5"
  },
  "toc": {
   "base_numbering": 1,
   "nav_menu": {},
   "number_sections": true,
   "sideBar": true,
   "skip_h1_title": false,
   "title_cell": "Table of Contents",
   "title_sidebar": "Contents",
   "toc_cell": false,
   "toc_position": {
    "height": "calc(100% - 180px)",
    "left": "10px",
    "top": "150px",
    "width": "288px"
   },
   "toc_section_display": true,
   "toc_window_display": true
  }
 },
 "nbformat": 4,
 "nbformat_minor": 4
}
