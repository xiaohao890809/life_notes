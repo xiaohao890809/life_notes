{
 "cells": [
  {
   "cell_type": "markdown",
   "metadata": {},
   "source": [
    "# 阿波罗计划"
   ]
  },
  {
   "cell_type": "markdown",
   "metadata": {},
   "source": [
    "- [百科](https://baike.baidu.com/item/%E9%98%BF%E6%B3%A2%E7%BD%97%E8%AE%A1%E5%88%92/114281)"
   ]
  },
  {
   "cell_type": "markdown",
   "metadata": {},
   "source": [
    "阿波罗计划始于1961年5月，至1972年12月第6次登月成功结束，历时约11年，耗资255亿美元。\n",
    "\n"
   ]
  },
  {
   "cell_type": "markdown",
   "metadata": {},
   "source": [
    "科罗廖夫"
   ]
  },
  {
   "cell_type": "markdown",
   "metadata": {},
   "source": [
    "# 视频"
   ]
  },
  {
   "cell_type": "markdown",
   "metadata": {},
   "source": [
    "- [撼天记-上帝的眼睛](https://www.bilibili.com/video/BV1ws41187gd)"
   ]
  },
  {
   "cell_type": "markdown",
   "metadata": {},
   "source": [
    "# 问题"
   ]
  },
  {
   "cell_type": "markdown",
   "metadata": {},
   "source": [
    "- 星星为什么会一闪一闪的？\n",
    "- 星星为啥会发光"
   ]
  },
  {
   "cell_type": "markdown",
   "metadata": {},
   "source": [
    "# 人物"
   ]
  },
  {
   "cell_type": "markdown",
   "metadata": {},
   "source": [
    "- [加加林](https://baike.baidu.com/item/%E5%B0%A4%E9%87%8C%C2%B7%E9%98%BF%E5%88%97%E5%85%8B%E8%B0%A2%E8%80%B6%E7%BB%B4%E5%A5%87%C2%B7%E5%8A%A0%E5%8A%A0%E6%9E%97)(第一个进入太空的航天员)\n",
    "- [列什科娃](https://baike.baidu.com/item/%E7%93%A6%E8%8E%B2%E4%BA%AC%E5%A8%9C%C2%B7%E5%BC%97%E6%8B%89%E5%9F%BA%E7%B1%B3%E7%BD%97%E5%A4%AB%E5%A8%9C%C2%B7%E6%8D%B7%E5%88%97%E4%BB%80%E7%A7%91%E5%A8%83)(第一个进入太空的女航天员)"
   ]
  },
  {
   "cell_type": "code",
   "execution_count": null,
   "metadata": {},
   "outputs": [],
   "source": []
  }
 ],
 "metadata": {
  "kernelspec": {
   "display_name": "Python 3",
   "language": "python",
   "name": "python3"
  },
  "language_info": {
   "codemirror_mode": {
    "name": "ipython",
    "version": 3
   },
   "file_extension": ".py",
   "mimetype": "text/x-python",
   "name": "python",
   "nbconvert_exporter": "python",
   "pygments_lexer": "ipython3",
   "version": "3.8.5"
  },
  "toc": {
   "base_numbering": 1,
   "nav_menu": {},
   "number_sections": true,
   "sideBar": true,
   "skip_h1_title": false,
   "title_cell": "Table of Contents",
   "title_sidebar": "Contents",
   "toc_cell": false,
   "toc_position": {},
   "toc_section_display": true,
   "toc_window_display": true
  }
 },
 "nbformat": 4,
 "nbformat_minor": 4
}
